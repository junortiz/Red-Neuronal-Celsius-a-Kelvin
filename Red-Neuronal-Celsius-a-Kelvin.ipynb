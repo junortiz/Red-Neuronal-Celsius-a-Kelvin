{
  "nbformat": 4,
  "nbformat_minor": 0,
  "metadata": {
    "colab": {
      "provenance": [],
      "gpuType": "T4"
    },
    "kernelspec": {
      "name": "python3",
      "display_name": "Python 3"
    },
    "language_info": {
      "name": "python"
    },
    "accelerator": "GPU"
  },
  "cells": [
    {
      "cell_type": "code",
      "execution_count": 20,
      "metadata": {
        "id": "035QAA5Em7nV"
      },
      "outputs": [],
      "source": [
        "#Librerias\n",
        "import tensorflow as tf\n",
        "import numpy as np"
      ]
    },
    {
      "cell_type": "code",
      "source": [
        "#Arreglo de numeros\n",
        "celsius = np.array([-40, -30, -20, -10, -5, 0, 5, 10, 15, 20, 25, 30, 35, 40, 50, 60, 70, 80, 90, 100], dtype=float)\n",
        "kelvin = np.array([233.15, 243.15, 253.15, 263.15, 268.15, 273.15, 278.15, 283.15, 288.15, 293.15, 298.15, 303.15, 308.15, 313.15, 323.15, 333.15, 343.15, 353.15, 363.15, 373.15], dtype=float)"
      ],
      "metadata": {
        "id": "UxVO_jd_ofdr"
      },
      "execution_count": 21,
      "outputs": []
    },
    {
      "cell_type": "code",
      "source": [
        "#Capas del modelo\n",
        "capa = tf.keras.layers.Dense(units= 1, input_shape=[1])\n",
        "modelo = tf.keras.Sequential([capa])"
      ],
      "metadata": {
        "id": "Dtm6UxWkoyG4"
      },
      "execution_count": 22,
      "outputs": []
    },
    {
      "cell_type": "markdown",
      "source": [
        "En esta parte, se agregan capas intermedias al modelo. oculta1 y oculta2 son capas densas con 3 unidades cada una, y salida es otra capa densa con 1 unidad. Estas capas se añaden al modelo secuencial para formar una red neuronal más compleja."
      ],
      "metadata": {
        "id": "2g4ZQtRwrC1W"
      }
    },
    {
      "cell_type": "code",
      "source": [
        "#Agregamos capas intermedias\n",
        "oculta1 = tf.keras.layers.Dense(units= 3, input_shape=[1])\n",
        "oculta2 = tf.keras.layers.Dense(units= 3)\n",
        "salida = tf.keras.layers.Dense(units= 1)\n",
        "modelo = tf.keras.Sequential([oculta1,oculta2, salida])"
      ],
      "metadata": {
        "id": "BVvZk09irDxR"
      },
      "execution_count": null,
      "outputs": []
    },
    {
      "cell_type": "code",
      "source": [
        "#Modelo\n",
        "modelo.compile(\n",
        "    optimizer= tf.keras.optimizers.Adam(0.1),\n",
        "    loss = 'mean_squared_error'\n",
        ")"
      ],
      "metadata": {
        "id": "zQy58qCnpDX6"
      },
      "execution_count": 23,
      "outputs": []
    },
    {
      "cell_type": "code",
      "source": [
        "print('Comenzando..')\n",
        "historial = modelo.fit(celsius,kelvin, epochs = 1000, verbose = False)\n",
        "print('Modelo entrenado')\n"
      ],
      "metadata": {
        "colab": {
          "base_uri": "https://localhost:8080/"
        },
        "id": "uzxDtndkpWTM",
        "outputId": "c6268a80-0b67-4c20-c346-dfb4de2ec24a"
      },
      "execution_count": 24,
      "outputs": [
        {
          "output_type": "stream",
          "name": "stdout",
          "text": [
            "Comenzando..\n",
            "Modelo entrenado\n"
          ]
        }
      ]
    },
    {
      "cell_type": "code",
      "source": [
        "#Resultado de la funcion de perdida\n",
        "import matplotlib.pyplot as plt\n",
        "plt.plot(historial.history['loss'])\n",
        "plt.xlabel('# Epoca')\n",
        "plt.show()"
      ],
      "metadata": {
        "colab": {
          "base_uri": "https://localhost:8080/",
          "height": 449
        },
        "id": "8TxNnYJEpnD3",
        "outputId": "2e790b7e-4de0-403a-d280-f0bdd0528250"
      },
      "execution_count": 29,
      "outputs": [
        {
          "output_type": "display_data",
          "data": {
            "text/plain": [
              "<Figure size 640x480 with 1 Axes>"
            ],
            "image/png": "[encoded data removed]"
          },
          "metadata": {}
        }
      ]
    },
    {
      "cell_type": "code",
      "source": [
        "#Validar\n",
        "resultado = modelo.predict([200])\n",
        "print('El resultado es: ' + str(resultado) + 'fahrenhei!')"
      ],
      "metadata": {
        "colab": {
          "base_uri": "https://localhost:8080/"
        },
        "id": "HqbgqzT4p3-X",
        "outputId": "adf138c1-78e3-4c7a-ed49-55a9a5538290"
      },
      "execution_count": 35,
      "outputs": [
        {
          "output_type": "stream",
          "name": "stdout",
          "text": [
            "1/1 [==============================] - 0s 41ms/step\n",
            "El resultado es: [[472.6714]]fahrenhei!\n"
          ]
        }
      ]
    },
    {
      "cell_type": "code",
      "source": [
        "#Estructura interna\n",
        "print('Varibales internas')\n",
        "print(capa.get_weights())"
      ],
      "metadata": {
        "colab": {
          "base_uri": "https://localhost:8080/"
        },
        "id": "Z4O8TzPiqZ4I",
        "outputId": "9a04766e-2379-4fb9-c8b5-f7b7b90dfea4"
      },
      "execution_count": 31,
      "outputs": [
        {
          "output_type": "stream",
          "name": "stdout",
          "text": [
            "Varibales internas\n",
            "[array([[-0.01008189]], dtype=float32), array([0.], dtype=float32)]\n"
          ]
        }
      ]
    },
    {
      "cell_type": "code",
      "source": [
        "#Estructura interna\n",
        "print('Varibales internas')\n",
        "print(oculta1.get_weights())\n",
        "print(oculta2.get_weights())\n",
        "print(salida.get_weights())"
      ],
      "metadata": {
        "colab": {
          "base_uri": "https://localhost:8080/"
        },
        "id": "VvUF0r8xrejA",
        "outputId": "945b0ec8-7686-4d96-a840-4f5d06765d28"
      },
      "execution_count": 32,
      "outputs": [
        {
          "output_type": "stream",
          "name": "stdout",
          "text": [
            "Varibales internas\n",
            "[array([[-0.47972032, -0.16408089,  0.6335676 ]], dtype=float32), array([6.1567593, 6.498156 , 7.730429 ], dtype=float32)]\n",
            "[array([[1.4998026 , 2.069769  , 1.4903227 ],\n",
            "       [0.93483806, 1.8364128 , 1.7089097 ],\n",
            "       [2.156117  , 1.5206027 , 2.0343153 ]], dtype=float32), array([6.2694235, 7.699339 , 6.769582 ], dtype=float32)]\n",
            "[array([[1.7637297],\n",
            "       [1.9621271],\n",
            "       [2.6480262]], dtype=float32), array([5.75499], dtype=float32)]\n"
          ]
        }
      ]
    }
  ]
}